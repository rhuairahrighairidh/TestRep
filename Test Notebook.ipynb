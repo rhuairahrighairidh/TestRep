{
 "cells": [
  {
   "cell_type": "markdown",
   "metadata": {},
   "source": [
    "# A Heading"
   ]
  },
  {
   "cell_type": "markdown",
   "metadata": {},
   "source": [
    "## Initialization"
   ]
  },
  {
   "cell_type": "markdown",
   "metadata": {},
   "source": [
    "Load various modules and things."
   ]
  },
  {
   "cell_type": "code",
   "execution_count": 6,
   "metadata": {
    "collapsed": false
   },
   "outputs": [],
   "source": [
    "import numpy as np\n",
    "import pandas as pd\n",
    "import matplotlib.pyplot as plt"
   ]
  },
  {
   "cell_type": "code",
   "execution_count": 15,
   "metadata": {
    "collapsed": false
   },
   "outputs": [],
   "source": [
    "%matplotlib inline"
   ]
  },
  {
   "cell_type": "markdown",
   "metadata": {},
   "source": [
    "## Create some input data"
   ]
  },
  {
   "cell_type": "code",
   "execution_count": 41,
   "metadata": {
    "collapsed": false
   },
   "outputs": [
    {
     "data": {
      "text/plain": [
       "array([[ 0.012743  ,  0.65649707,  0.90868043,  0.56269528,  0.69383353,\n",
       "         0.9951494 ,  0.76216944,  0.56339209,  0.1030234 ,  0.9577851 ],\n",
       "       [ 0.17398505,  0.82190243,  0.64046888,  0.36577494,  0.73406531,\n",
       "         0.30249698,  0.58518283,  0.02826187,  0.68474611,  0.99047096],\n",
       "       [ 0.63401846,  0.2840031 ,  0.04785278,  0.73934671,  0.72523353,\n",
       "         0.04269917,  0.29407758,  0.06482831,  0.52679425,  0.94442131],\n",
       "       [ 0.4827848 ,  0.85493147,  0.48538407,  0.9196273 ,  0.1518911 ,\n",
       "         0.62083453,  0.91368046,  0.39259118,  0.1332804 ,  0.32973286],\n",
       "       [ 0.42332067,  0.03779883,  0.83866978,  0.02831664,  0.63948764,\n",
       "         0.55686037,  0.07099536,  0.33303651,  0.69985591,  0.27949919],\n",
       "       [ 0.1444725 ,  0.61472488,  0.9839975 ,  0.02147035,  0.64064797,\n",
       "         0.10953385,  0.47830901,  0.60666676,  0.35130791,  0.7090189 ],\n",
       "       [ 0.29234135,  0.41080007,  0.65015383,  0.95251394,  0.0199974 ,\n",
       "         0.23540461,  0.33079259,  0.51755146,  0.09636072,  0.31397757],\n",
       "       [ 0.02209092,  0.35178348,  0.19347608,  0.37690901,  0.14288518,\n",
       "         0.66549162,  0.41346276,  0.05698833,  0.27939477,  0.84440239],\n",
       "       [ 0.90128029,  0.8153657 ,  0.22608162,  0.7785286 ,  0.19011087,\n",
       "         0.00923195,  0.42812949,  0.26683062,  0.94901588,  0.22192505],\n",
       "       [ 0.59658907,  0.62385862,  0.63664533,  0.94748919,  0.8024006 ,\n",
       "         0.57686105,  0.15663811,  0.26244417,  0.68440905,  0.52385917]])"
      ]
     },
     "execution_count": 41,
     "metadata": {},
     "output_type": "execute_result"
    }
   ],
   "source": [
    "R=np.random.random_sample((10,10))\n",
    "R"
   ]
  },
  {
   "cell_type": "code",
   "execution_count": 42,
   "metadata": {
    "collapsed": false
   },
   "outputs": [
    {
     "data": {
      "text/plain": [
       "<matplotlib.collections.PolyCollection at 0xdf406d8>"
      ]
     },
     "execution_count": 42,
     "metadata": {},
     "output_type": "execute_result"
    },
    {
     "data": {
      "image/png": "[encoded data removed]",
      "text/plain": [
       "<matplotlib.figure.Figure at 0xcced048>"
      ]
     },
     "metadata": {},
     "output_type": "display_data"
    }
   ],
   "source": [
    "plt.pcolor(R)"
   ]
  },
  {
   "cell_type": "markdown",
   "metadata": {},
   "source": [
    "## Modify That Data"
   ]
  },
  {
   "cell_type": "markdown",
   "metadata": {},
   "source": [
    "Clip the values to 1 or 0"
   ]
  },
  {
   "cell_type": "code",
   "execution_count": 43,
   "metadata": {
    "collapsed": false
   },
   "outputs": [],
   "source": [
    "for row in range(len(R)):\n",
    "    for i in range(len(R[row])):\n",
    "        if R[row][i]>=0.2:\n",
    "            R[row][i]=1\n",
    "        else:\n",
    "            R[row][i]=0"
   ]
  },
  {
   "cell_type": "code",
   "execution_count": 44,
   "metadata": {
    "collapsed": false
   },
   "outputs": [
    {
     "data": {
      "text/plain": [
       "array([[ 0.,  1.,  1.,  1.,  1.,  1.,  1.,  1.,  0.,  1.],\n",
       "       [ 0.,  1.,  1.,  1.,  1.,  1.,  1.,  0.,  1.,  1.],\n",
       "       [ 1.,  1.,  0.,  1.,  1.,  0.,  1.,  0.,  1.,  1.],\n",
       "       [ 1.,  1.,  1.,  1.,  0.,  1.,  1.,  1.,  0.,  1.],\n",
       "       [ 1.,  0.,  1.,  0.,  1.,  1.,  0.,  1.,  1.,  1.],\n",
       "       [ 0.,  1.,  1.,  0.,  1.,  0.,  1.,  1.,  1.,  1.],\n",
       "       [ 1.,  1.,  1.,  1.,  0.,  1.,  1.,  1.,  0.,  1.],\n",
       "       [ 0.,  1.,  0.,  1.,  0.,  1.,  1.,  0.,  1.,  1.],\n",
       "       [ 1.,  1.,  1.,  1.,  0.,  0.,  1.,  1.,  1.,  1.],\n",
       "       [ 1.,  1.,  1.,  1.,  1.,  1.,  0.,  1.,  1.,  1.]])"
      ]
     },
     "execution_count": 44,
     "metadata": {},
     "output_type": "execute_result"
    }
   ],
   "source": [
    "R"
   ]
  },
  {
   "cell_type": "code",
   "execution_count": 45,
   "metadata": {
    "collapsed": false
   },
   "outputs": [
    {
     "data": {
      "text/plain": [
       "<matplotlib.collections.PolyCollection at 0xdf7de80>"
      ]
     },
     "execution_count": 45,
     "metadata": {},
     "output_type": "execute_result"
    },
    {
     "data": {
      "image/png": "[encoded data removed]",
      "text/plain": [
       "<matplotlib.figure.Figure at 0xdce6da0>"
      ]
     },
     "metadata": {},
     "output_type": "display_data"
    }
   ],
   "source": [
    "plt.pcolor(R)"
   ]
  }
 ],
 "metadata": {
  "kernelspec": {
   "display_name": "Python 2",
   "language": "python",
   "name": "python2"
  },
  "language_info": {
   "codemirror_mode": {
    "name": "ipython",
    "version": 2
   },
   "file_extension": ".py",
   "mimetype": "text/x-python",
   "name": "python",
   "nbconvert_exporter": "python",
   "pygments_lexer": "ipython2",
   "version": "2.7.9"
  }
 },
 "nbformat": 4,
 "nbformat_minor": 0
}
